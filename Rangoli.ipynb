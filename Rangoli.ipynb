{
  "cells": [
    {
      "metadata": {
        "collapsed": true
      },
      "cell_type": "markdown",
      "source": "# Alphabet Rangoli"
    },
    {
      "metadata": {},
      "cell_type": "markdown",
      "source": "  Rangoli is a form of Indian folk art\n  based on creation of patterns.\n    \n    Rangoli of size 3:\n    \n    ----c----\n    --c-b-c--\n    c-b-a-b-c\n    --c-b-c--\n    ----c----\n    \n  Here's my version of Alphabet Rangoli\n  implementation. Have fun and please\n  share your comments..\n  \n  Constraints:\n    Enter a natural number n,\n    the size of rangoli: 0 < n < 27\n  \n  Screen size limitations:\n    If you run this code on your smartphone,\n    the result may become unreadable.\n    Please try 0 < n < 11.\n'''\n\nerr=\"Please, enter a natural number n<27 and try again...\"\n"
    },
    {
      "metadata": {
        "trusted": true
      },
      "cell_type": "code",
      "source": "from string import ascii_lowercase",
      "execution_count": 3,
      "outputs": []
    },
    {
      "metadata": {
        "trusted": true
      },
      "cell_type": "code",
      "source": "def print_rangoli(x, *, character='-'):\n    try:\n        if x < 1 or x>26:\n            raise ValueError\n        alphabets = ascii_lowercase[x-1::-1]+ ascii_lowercase[1:x]\n        columns = (x-1)*4+1\n        rows = x*2-1\n        data = []\n        for i in range(x):\n            y = character.join(alphabets[:i]+alphabets[i::-1])\n            l = (columns-len(y))//2\n            data.append(character*l+y+character*l)\n\n        index_range = list(range(x))+list(range(-2,-x-1,-1))\n        for k in index_range:\n            print(data[k])\n    except ValueError:\n        print('Please, enter a natural number n<27 and try again...')",
      "execution_count": 4,
      "outputs": []
    },
    {
      "metadata": {
        "trusted": true
      },
      "cell_type": "code",
      "source": "print_rangoli(5)",
      "execution_count": 5,
      "outputs": [
        {
          "output_type": "stream",
          "text": "--------e--------\n------e-d-e------\n----e-d-c-d-e----\n--e-d-c-b-c-d-e--\ne-d-c-b-a-b-c-d-e\n--e-d-c-b-c-d-e--\n----e-d-c-d-e----\n------e-d-e------\n--------e--------\n",
          "name": "stdout"
        }
      ]
    },
    {
      "metadata": {
        "trusted": true
      },
      "cell_type": "code",
      "source": "print_rangoli(4, character='*')",
      "execution_count": 6,
      "outputs": [
        {
          "output_type": "stream",
          "text": "******d******\n****d*c*d****\n**d*c*b*c*d**\nd*c*b*a*b*c*d\n**d*c*b*c*d**\n****d*c*d****\n******d******\n",
          "name": "stdout"
        }
      ]
    },
    {
      "metadata": {
        "trusted": true
      },
      "cell_type": "code",
      "source": "print_rangoli(26, character='*')",
      "execution_count": 7,
      "outputs": [
        {
          "output_type": "stream",
          "text": "**************************************************z**************************************************\n************************************************z*y*z************************************************\n**********************************************z*y*x*y*z**********************************************\n********************************************z*y*x*w*x*y*z********************************************\n******************************************z*y*x*w*v*w*x*y*z******************************************\n****************************************z*y*x*w*v*u*v*w*x*y*z****************************************\n**************************************z*y*x*w*v*u*t*u*v*w*x*y*z**************************************\n************************************z*y*x*w*v*u*t*s*t*u*v*w*x*y*z************************************\n**********************************z*y*x*w*v*u*t*s*r*s*t*u*v*w*x*y*z**********************************\n********************************z*y*x*w*v*u*t*s*r*q*r*s*t*u*v*w*x*y*z********************************\n******************************z*y*x*w*v*u*t*s*r*q*p*q*r*s*t*u*v*w*x*y*z******************************\n****************************z*y*x*w*v*u*t*s*r*q*p*o*p*q*r*s*t*u*v*w*x*y*z****************************\n**************************z*y*x*w*v*u*t*s*r*q*p*o*n*o*p*q*r*s*t*u*v*w*x*y*z**************************\n************************z*y*x*w*v*u*t*s*r*q*p*o*n*m*n*o*p*q*r*s*t*u*v*w*x*y*z************************\n**********************z*y*x*w*v*u*t*s*r*q*p*o*n*m*l*m*n*o*p*q*r*s*t*u*v*w*x*y*z**********************\n********************z*y*x*w*v*u*t*s*r*q*p*o*n*m*l*k*l*m*n*o*p*q*r*s*t*u*v*w*x*y*z********************\n******************z*y*x*w*v*u*t*s*r*q*p*o*n*m*l*k*j*k*l*m*n*o*p*q*r*s*t*u*v*w*x*y*z******************\n****************z*y*x*w*v*u*t*s*r*q*p*o*n*m*l*k*j*i*j*k*l*m*n*o*p*q*r*s*t*u*v*w*x*y*z****************\n**************z*y*x*w*v*u*t*s*r*q*p*o*n*m*l*k*j*i*h*i*j*k*l*m*n*o*p*q*r*s*t*u*v*w*x*y*z**************\n************z*y*x*w*v*u*t*s*r*q*p*o*n*m*l*k*j*i*h*g*h*i*j*k*l*m*n*o*p*q*r*s*t*u*v*w*x*y*z************\n**********z*y*x*w*v*u*t*s*r*q*p*o*n*m*l*k*j*i*h*g*f*g*h*i*j*k*l*m*n*o*p*q*r*s*t*u*v*w*x*y*z**********\n********z*y*x*w*v*u*t*s*r*q*p*o*n*m*l*k*j*i*h*g*f*e*f*g*h*i*j*k*l*m*n*o*p*q*r*s*t*u*v*w*x*y*z********\n******z*y*x*w*v*u*t*s*r*q*p*o*n*m*l*k*j*i*h*g*f*e*d*e*f*g*h*i*j*k*l*m*n*o*p*q*r*s*t*u*v*w*x*y*z******\n****z*y*x*w*v*u*t*s*r*q*p*o*n*m*l*k*j*i*h*g*f*e*d*c*d*e*f*g*h*i*j*k*l*m*n*o*p*q*r*s*t*u*v*w*x*y*z****\n**z*y*x*w*v*u*t*s*r*q*p*o*n*m*l*k*j*i*h*g*f*e*d*c*b*c*d*e*f*g*h*i*j*k*l*m*n*o*p*q*r*s*t*u*v*w*x*y*z**\nz*y*x*w*v*u*t*s*r*q*p*o*n*m*l*k*j*i*h*g*f*e*d*c*b*a*b*c*d*e*f*g*h*i*j*k*l*m*n*o*p*q*r*s*t*u*v*w*x*y*z\n**z*y*x*w*v*u*t*s*r*q*p*o*n*m*l*k*j*i*h*g*f*e*d*c*b*c*d*e*f*g*h*i*j*k*l*m*n*o*p*q*r*s*t*u*v*w*x*y*z**\n****z*y*x*w*v*u*t*s*r*q*p*o*n*m*l*k*j*i*h*g*f*e*d*c*d*e*f*g*h*i*j*k*l*m*n*o*p*q*r*s*t*u*v*w*x*y*z****\n******z*y*x*w*v*u*t*s*r*q*p*o*n*m*l*k*j*i*h*g*f*e*d*e*f*g*h*i*j*k*l*m*n*o*p*q*r*s*t*u*v*w*x*y*z******\n********z*y*x*w*v*u*t*s*r*q*p*o*n*m*l*k*j*i*h*g*f*e*f*g*h*i*j*k*l*m*n*o*p*q*r*s*t*u*v*w*x*y*z********\n**********z*y*x*w*v*u*t*s*r*q*p*o*n*m*l*k*j*i*h*g*f*g*h*i*j*k*l*m*n*o*p*q*r*s*t*u*v*w*x*y*z**********\n************z*y*x*w*v*u*t*s*r*q*p*o*n*m*l*k*j*i*h*g*h*i*j*k*l*m*n*o*p*q*r*s*t*u*v*w*x*y*z************\n**************z*y*x*w*v*u*t*s*r*q*p*o*n*m*l*k*j*i*h*i*j*k*l*m*n*o*p*q*r*s*t*u*v*w*x*y*z**************\n****************z*y*x*w*v*u*t*s*r*q*p*o*n*m*l*k*j*i*j*k*l*m*n*o*p*q*r*s*t*u*v*w*x*y*z****************\n******************z*y*x*w*v*u*t*s*r*q*p*o*n*m*l*k*j*k*l*m*n*o*p*q*r*s*t*u*v*w*x*y*z******************\n********************z*y*x*w*v*u*t*s*r*q*p*o*n*m*l*k*l*m*n*o*p*q*r*s*t*u*v*w*x*y*z********************\n**********************z*y*x*w*v*u*t*s*r*q*p*o*n*m*l*m*n*o*p*q*r*s*t*u*v*w*x*y*z**********************\n************************z*y*x*w*v*u*t*s*r*q*p*o*n*m*n*o*p*q*r*s*t*u*v*w*x*y*z************************\n**************************z*y*x*w*v*u*t*s*r*q*p*o*n*o*p*q*r*s*t*u*v*w*x*y*z**************************\n****************************z*y*x*w*v*u*t*s*r*q*p*o*p*q*r*s*t*u*v*w*x*y*z****************************\n******************************z*y*x*w*v*u*t*s*r*q*p*q*r*s*t*u*v*w*x*y*z******************************\n********************************z*y*x*w*v*u*t*s*r*q*r*s*t*u*v*w*x*y*z********************************\n**********************************z*y*x*w*v*u*t*s*r*s*t*u*v*w*x*y*z**********************************\n************************************z*y*x*w*v*u*t*s*t*u*v*w*x*y*z************************************\n**************************************z*y*x*w*v*u*t*u*v*w*x*y*z**************************************\n****************************************z*y*x*w*v*u*v*w*x*y*z****************************************\n******************************************z*y*x*w*v*w*x*y*z******************************************\n********************************************z*y*x*w*x*y*z********************************************\n**********************************************z*y*x*y*z**********************************************\n************************************************z*y*z************************************************\n**************************************************z**************************************************\n",
          "name": "stdout"
        }
      ]
    },
    {
      "metadata": {
        "trusted": true
      },
      "cell_type": "code",
      "source": "print_rangoli(27)",
      "execution_count": 8,
      "outputs": [
        {
          "output_type": "stream",
          "text": "Please, enter a natural number n<27 and try again...\n",
          "name": "stdout"
        }
      ]
    }
  ],
  "metadata": {
    "kernelspec": {
      "name": "python36",
      "display_name": "Python 3.6",
      "language": "python"
    },
    "language_info": {
      "mimetype": "text/x-python",
      "nbconvert_exporter": "python",
      "name": "python",
      "pygments_lexer": "ipython3",
      "version": "3.6.6",
      "file_extension": ".py",
      "codemirror_mode": {
        "version": 3,
        "name": "ipython"
      }
    }
  },
  "nbformat": 4,
  "nbformat_minor": 2
}