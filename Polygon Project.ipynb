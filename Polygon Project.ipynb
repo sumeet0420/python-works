{
  "cells": [
    {
      "metadata": {
        "trusted": true
      },
      "cell_type": "code",
      "source": "from math import sin\nfrom math import cos\nfrom math import pi\n\nclass Polygon:\n    \n    def __init__(self, _edge, _circumRadii):\n        self._edge = _edge \n        self._circumRadii = _circumRadii\n    \n    def get_edge(self):\n        return self._edge\n    \n    def get_circumradii(self):\n        return self.circumRadii\n    \n    def get_vertices(self):\n        return self._vertices\n    \n    def interior_angle(self):\n        return (self._edge-2) * 180 / self._edge\n    \n    def __repr__(self):\n        return f'Polygon(edge={self._edge},circuRadii={self._circumRadii})'\n    \n    def __str__(self):\n        return f'Polygon of edge={self._edge} and circuRadii={self._circumRadii} has been created.'\n    \n    def __eq__(self, other):\n        if isinstance(other, Polygon):\n            if self._edge == other._edge and self._circumRadii == other._circumRadii:\n                return True\n            else:\n                return False\n        else:\n            return False\n    \n    def edge_length(self):\n        return 2*self._circumRadii * sin (pi / self._edge)\n    \n    def apothem(self):\n        return self._circumRadii * cos (pi / self._edge)\n    \n    def area(self):\n        return 0.5 * self._edge * self.edge_length() * self.apothem()\n    \n    def perimeter(self):\n        return self._edge * self.edge_length()\n    \n    def __getitem__(self, value):\n        pass\n    \n    def __gt__(self,other):\n        return self._edge > other._edge",
      "execution_count": 111,
      "outputs": []
    },
    {
      "metadata": {
        "trusted": true
      },
      "cell_type": "code",
      "source": "p1 = Polygon(3,4)",
      "execution_count": 112,
      "outputs": []
    },
    {
      "metadata": {
        "trusted": true
      },
      "cell_type": "code",
      "source": "p1.interior_angle()",
      "execution_count": 113,
      "outputs": [
        {
          "output_type": "execute_result",
          "execution_count": 113,
          "data": {
            "text/plain": "60.0"
          },
          "metadata": {}
        }
      ]
    },
    {
      "metadata": {
        "trusted": true
      },
      "cell_type": "code",
      "source": "p1.edge_length()",
      "execution_count": 114,
      "outputs": [
        {
          "output_type": "execute_result",
          "execution_count": 114,
          "data": {
            "text/plain": "6.928203230275509"
          },
          "metadata": {}
        }
      ]
    },
    {
      "metadata": {
        "trusted": true
      },
      "cell_type": "code",
      "source": "p1.area()",
      "execution_count": 115,
      "outputs": [
        {
          "output_type": "execute_result",
          "execution_count": 115,
          "data": {
            "text/plain": "20.78460969082653"
          },
          "metadata": {}
        }
      ]
    },
    {
      "metadata": {
        "trusted": true
      },
      "cell_type": "code",
      "source": "p1.perimeter()",
      "execution_count": 116,
      "outputs": [
        {
          "output_type": "execute_result",
          "execution_count": 116,
          "data": {
            "text/plain": "20.784609690826528"
          },
          "metadata": {}
        }
      ]
    },
    {
      "metadata": {
        "trusted": true
      },
      "cell_type": "code",
      "source": "repr(p1)",
      "execution_count": 117,
      "outputs": [
        {
          "output_type": "execute_result",
          "execution_count": 117,
          "data": {
            "text/plain": "'Polygon(edge=3,circuRadii=4)'"
          },
          "metadata": {}
        }
      ]
    },
    {
      "metadata": {
        "trusted": true
      },
      "cell_type": "code",
      "source": "p1.__repr__()",
      "execution_count": 109,
      "outputs": [
        {
          "output_type": "execute_result",
          "execution_count": 109,
          "data": {
            "text/plain": "'Polygon(edge=3,circuRadii=4)'"
          },
          "metadata": {}
        }
      ]
    },
    {
      "metadata": {
        "trusted": true
      },
      "cell_type": "code",
      "source": "str(p1)",
      "execution_count": 119,
      "outputs": [
        {
          "output_type": "execute_result",
          "execution_count": 119,
          "data": {
            "text/plain": "'Polygon of edge=3 and circuRadii=4) has been created.'"
          },
          "metadata": {}
        }
      ]
    },
    {
      "metadata": {
        "trusted": true
      },
      "cell_type": "code",
      "source": "",
      "execution_count": null,
      "outputs": []
    }
  ],
  "metadata": {
    "kernelspec": {
      "name": "python36",
      "display_name": "Python 3.6",
      "language": "python"
    },
    "language_info": {
      "mimetype": "text/x-python",
      "nbconvert_exporter": "python",
      "name": "python",
      "pygments_lexer": "ipython3",
      "version": "3.6.6",
      "file_extension": ".py",
      "codemirror_mode": {
        "version": 3,
        "name": "ipython"
      }
    }
  },
  "nbformat": 4,
  "nbformat_minor": 2
}