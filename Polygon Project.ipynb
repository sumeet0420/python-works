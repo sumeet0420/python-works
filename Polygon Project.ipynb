{
  "cells": [
    {
      "metadata": {
        "trusted": true
      },
      "cell_type": "code",
      "source": "from math import sin\nfrom math import cos\nfrom math import pi\n\nclass Polygon:\n    \n    def __init__(self, edge, circumRadii):\n        self._edge = edge \n        self._circumRadii = circumRadii\n    \n    def get_edge(self):\n        return self._edge\n    \n    def get_circumradii(self):\n        return self.circumRadii\n    \n    def get_vertices(self):\n        return self._vertices\n    \n    def interior_angle(self):\n        return (self._edge-2) * 180 / self._edge\n    \n    def __repr__(self):\n        return f'Polygon(edge={self._edge},circuRadii={self._circumRadii})'\n    \n    def __str__(self):\n        return f'Polygon of edge={self._edge} and circuRadii={self._circumRadii}'\n    \n    def __eq__(self, other):\n        if isinstance(other, Polygon):\n            if self._edge == other._edge and self._circumRadii == other._circumRadii:\n                return True\n            else:\n                return False\n        else:\n            return False\n    \n    def edge_length(self):\n        return 2*self._circumRadii * sin (pi / self._edge)\n    \n    def apothem(self):\n        return self._circumRadii * cos (pi / self._edge)\n    \n    def area(self):\n        return 0.5 * self._edge * self.edge_length() * self.apothem()\n    \n    def perimeter(self):\n        return self._edge * self.edge_length()\n    \n    def __getitem__(self, value):\n        if value < 0 or value >self._edge-3:\n                raise IndexError(f'Value {value} exceeds Index')\n        else:\n                return Polygon(value+3, self._circumRadii)\n    \n    def __contains__(self, value):\n        lst = [Polygon(i, self._circumRadii) for i in range(3, self._edge+1)]\n        return value in lst\n    \n    def efficiency(self):\n        lst = [Polygon(i, self._circumRadii) for i in range(3, self._edge+1)]\n        sorted_lst = sorted(lst, key = lambda x: x.area()/x.perimeter(), reverse = True)\n        return sorted_lst[0]\n    \n    def __len__(self):\n        return self._edge-2\n    \n    def __gt__(self,other):\n        return self._edge > other._edge",
      "execution_count": 267,
      "outputs": []
    },
    {
      "metadata": {
        "trusted": true
      },
      "cell_type": "code",
      "source": "p1 = Polygon(3,4)",
      "execution_count": 268,
      "outputs": []
    },
    {
      "metadata": {
        "trusted": true
      },
      "cell_type": "code",
      "source": "p1.interior_angle()",
      "execution_count": 269,
      "outputs": [
        {
          "output_type": "execute_result",
          "execution_count": 269,
          "data": {
            "text/plain": "60.0"
          },
          "metadata": {}
        }
      ]
    },
    {
      "metadata": {
        "trusted": true
      },
      "cell_type": "code",
      "source": "p1.edge_length()",
      "execution_count": 270,
      "outputs": [
        {
          "output_type": "execute_result",
          "execution_count": 270,
          "data": {
            "text/plain": "6.928203230275509"
          },
          "metadata": {}
        }
      ]
    },
    {
      "metadata": {
        "trusted": true
      },
      "cell_type": "code",
      "source": "p1.area()",
      "execution_count": 271,
      "outputs": [
        {
          "output_type": "execute_result",
          "execution_count": 271,
          "data": {
            "text/plain": "20.78460969082653"
          },
          "metadata": {}
        }
      ]
    },
    {
      "metadata": {
        "trusted": true
      },
      "cell_type": "code",
      "source": "p1.perimeter()",
      "execution_count": 272,
      "outputs": [
        {
          "output_type": "execute_result",
          "execution_count": 272,
          "data": {
            "text/plain": "20.784609690826528"
          },
          "metadata": {}
        }
      ]
    },
    {
      "metadata": {
        "trusted": true
      },
      "cell_type": "code",
      "source": "repr(p1)",
      "execution_count": 273,
      "outputs": [
        {
          "output_type": "execute_result",
          "execution_count": 273,
          "data": {
            "text/plain": "'Polygon(edge=3,circuRadii=4)'"
          },
          "metadata": {}
        }
      ]
    },
    {
      "metadata": {
        "trusted": true
      },
      "cell_type": "code",
      "source": "p1.__repr__()",
      "execution_count": 274,
      "outputs": [
        {
          "output_type": "execute_result",
          "execution_count": 274,
          "data": {
            "text/plain": "'Polygon(edge=3,circuRadii=4)'"
          },
          "metadata": {}
        }
      ]
    },
    {
      "metadata": {
        "trusted": true
      },
      "cell_type": "code",
      "source": "str(p1)",
      "execution_count": 275,
      "outputs": [
        {
          "output_type": "execute_result",
          "execution_count": 275,
          "data": {
            "text/plain": "'Polygon of edge=3 and circuRadii=4'"
          },
          "metadata": {}
        }
      ]
    },
    {
      "metadata": {
        "trusted": true
      },
      "cell_type": "code",
      "source": "p_list = Polygon(7,90)",
      "execution_count": 276,
      "outputs": []
    },
    {
      "metadata": {
        "trusted": true
      },
      "cell_type": "code",
      "source": "p_list[3]",
      "execution_count": 277,
      "outputs": [
        {
          "output_type": "execute_result",
          "execution_count": 277,
          "data": {
            "text/plain": "Polygon(edge=6,circuRadii=90)"
          },
          "metadata": {}
        }
      ]
    },
    {
      "metadata": {
        "trusted": true
      },
      "cell_type": "code",
      "source": "p_list[4]",
      "execution_count": 278,
      "outputs": [
        {
          "output_type": "execute_result",
          "execution_count": 278,
          "data": {
            "text/plain": "Polygon(edge=7,circuRadii=90)"
          },
          "metadata": {}
        }
      ]
    },
    {
      "metadata": {
        "trusted": true
      },
      "cell_type": "code",
      "source": "p_list[5]",
      "execution_count": 279,
      "outputs": [
        {
          "output_type": "error",
          "ename": "IndexError",
          "evalue": "Value 5 exceeds Index",
          "traceback": [
            "\u001b[0;31m---------------------------------------------------------------------------\u001b[0m",
            "\u001b[0;31mIndexError\u001b[0m                                Traceback (most recent call last)",
            "\u001b[0;32m<ipython-input-279-c19dd5f0ab1f>\u001b[0m in \u001b[0;36m<module>\u001b[0;34m\u001b[0m\n\u001b[0;32m----> 1\u001b[0;31m \u001b[0mp_list\u001b[0m\u001b[0;34m[\u001b[0m\u001b[0;36m5\u001b[0m\u001b[0;34m]\u001b[0m\u001b[0;34m\u001b[0m\u001b[0m\n\u001b[0m",
            "\u001b[0;32m<ipython-input-267-8a6421fcafc3>\u001b[0m in \u001b[0;36m__getitem__\u001b[0;34m(self, value)\u001b[0m\n\u001b[1;32m     50\u001b[0m     \u001b[0;32mdef\u001b[0m \u001b[0m__getitem__\u001b[0m\u001b[0;34m(\u001b[0m\u001b[0mself\u001b[0m\u001b[0;34m,\u001b[0m \u001b[0mvalue\u001b[0m\u001b[0;34m)\u001b[0m\u001b[0;34m:\u001b[0m\u001b[0;34m\u001b[0m\u001b[0m\n\u001b[1;32m     51\u001b[0m         \u001b[0;32mif\u001b[0m \u001b[0mvalue\u001b[0m \u001b[0;34m<\u001b[0m \u001b[0;36m0\u001b[0m \u001b[0;32mor\u001b[0m \u001b[0mvalue\u001b[0m \u001b[0;34m>\u001b[0m\u001b[0mself\u001b[0m\u001b[0;34m.\u001b[0m\u001b[0m_edge\u001b[0m\u001b[0;34m-\u001b[0m\u001b[0;36m3\u001b[0m\u001b[0;34m:\u001b[0m\u001b[0;34m\u001b[0m\u001b[0m\n\u001b[0;32m---> 52\u001b[0;31m                 \u001b[0;32mraise\u001b[0m \u001b[0mIndexError\u001b[0m\u001b[0;34m(\u001b[0m\u001b[0;34mf'Value {value} exceeds Index'\u001b[0m\u001b[0;34m)\u001b[0m\u001b[0;34m\u001b[0m\u001b[0m\n\u001b[0m\u001b[1;32m     53\u001b[0m         \u001b[0;32melse\u001b[0m\u001b[0;34m:\u001b[0m\u001b[0;34m\u001b[0m\u001b[0m\n\u001b[1;32m     54\u001b[0m                 \u001b[0;32mreturn\u001b[0m \u001b[0mPolygon\u001b[0m\u001b[0;34m(\u001b[0m\u001b[0mvalue\u001b[0m\u001b[0;34m+\u001b[0m\u001b[0;36m3\u001b[0m\u001b[0;34m,\u001b[0m \u001b[0mself\u001b[0m\u001b[0;34m.\u001b[0m\u001b[0m_circumRadii\u001b[0m\u001b[0;34m)\u001b[0m\u001b[0;34m\u001b[0m\u001b[0m\n",
            "\u001b[0;31mIndexError\u001b[0m: Value 5 exceeds Index"
          ]
        }
      ]
    },
    {
      "metadata": {
        "trusted": true
      },
      "cell_type": "code",
      "source": "for i in p_list:\n    print(i)",
      "execution_count": 280,
      "outputs": [
        {
          "output_type": "stream",
          "text": "Polygon of edge=3 and circuRadii=90\nPolygon of edge=4 and circuRadii=90\nPolygon of edge=5 and circuRadii=90\nPolygon of edge=6 and circuRadii=90\nPolygon of edge=7 and circuRadii=90\n",
          "name": "stdout"
        }
      ]
    },
    {
      "metadata": {
        "trusted": true
      },
      "cell_type": "code",
      "source": "x = p_list.efficiency()",
      "execution_count": 281,
      "outputs": []
    },
    {
      "metadata": {
        "trusted": true
      },
      "cell_type": "code",
      "source": "x",
      "execution_count": 283,
      "outputs": [
        {
          "output_type": "execute_result",
          "execution_count": 283,
          "data": {
            "text/plain": "Polygon(edge=7,circuRadii=90)"
          },
          "metadata": {}
        }
      ]
    },
    {
      "metadata": {
        "trusted": true
      },
      "cell_type": "code",
      "source": "x.area()",
      "execution_count": 285,
      "outputs": [
        {
          "output_type": "execute_result",
          "execution_count": 285,
          "data": {
            "text/plain": "22164.922527968647"
          },
          "metadata": {}
        }
      ]
    }
  ],
  "metadata": {
    "kernelspec": {
      "name": "python36",
      "display_name": "Python 3.6",
      "language": "python"
    },
    "language_info": {
      "mimetype": "text/x-python",
      "nbconvert_exporter": "python",
      "name": "python",
      "pygments_lexer": "ipython3",
      "version": "3.6.6",
      "file_extension": ".py",
      "codemirror_mode": {
        "version": 3,
        "name": "ipython"
      }
    }
  },
  "nbformat": 4,
  "nbformat_minor": 2
}