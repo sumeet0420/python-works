{
  "cells": [
    {
      "metadata": {
        "collapsed": true
      },
      "cell_type": "markdown",
      "source": "# Write a program to find the next working day\n\n## The Objective is to return the next day with following points in mind:\n    * If the next day is Saturday or Sunday, return Monday.\n    * Ifthe next day is a public holiday, return the next day after that holiday"
    },
    {
      "metadata": {
        "trusted": true
      },
      "cell_type": "code",
      "source": "from datetime import datetime, timedelta",
      "execution_count": 252,
      "outputs": []
    },
    {
      "metadata": {
        "trusted": true
      },
      "cell_type": "code",
      "source": "holiday_list = ['2019-05-07','2019-05-10','2019-05-13','2019-05-14']",
      "execution_count": 253,
      "outputs": []
    },
    {
      "metadata": {
        "trusted": true
      },
      "cell_type": "code",
      "source": "def next_date(date):\n    \n    format_str = '%Y-%m-%d' # The format\n    \n    def next_date_inner(in_date):\n        if isinstance(in_date,str):\n            datetime_obj = datetime.strptime(date, format_str)\n        else:\n            datetime_obj = in_date\n        num = datetime_obj.isoweekday()\n        if num == 1 or num == 2 or num == 3 or num == 4 or num ==7:\n            next_day = datetime_obj + timedelta(days=1)\n        elif num == 5:\n            next_day = datetime_obj + timedelta(days=3)\n        elif num == 6:\n            next_day = datetime_obj + timedelta(days=2)\n        return next_day\n    \n    holiday_list_temp = [datetime.strptime(holiday, format_str) for holiday in holiday_list]\n    \n    temp_date = next_date_inner(date)\n    for i in range(len(holiday_list_temp)):\n        if holiday_list_temp[i] == temp_date:\n            temp_date = next_date_inner(temp_date)\n    return temp_date.strftime(format_str)",
      "execution_count": 254,
      "outputs": []
    },
    {
      "metadata": {
        "trusted": true
      },
      "cell_type": "code",
      "source": "# Monday\ninput_date = '2019-05-06'\nprint(next_date(input_date))",
      "execution_count": 255,
      "outputs": [
        {
          "output_type": "stream",
          "text": "2019-05-08\n",
          "name": "stdout"
        }
      ]
    },
    {
      "metadata": {
        "trusted": true
      },
      "cell_type": "code",
      "source": "# Tuesday\ninput_date = '2019-05-07'\nprint(next_date(input_date))",
      "execution_count": 258,
      "outputs": [
        {
          "output_type": "stream",
          "text": "2019-05-08\n",
          "name": "stdout"
        }
      ]
    },
    {
      "metadata": {
        "trusted": true
      },
      "cell_type": "code",
      "source": "# Wednesday\ninput_date = '2019-05-08'\nprint(next_date(input_date))",
      "execution_count": 259,
      "outputs": [
        {
          "output_type": "stream",
          "text": "2019-05-09\n",
          "name": "stdout"
        }
      ]
    },
    {
      "metadata": {
        "trusted": true
      },
      "cell_type": "code",
      "source": "# Thursday\ninput_date = '2019-05-09'\nprint(next_date(input_date))",
      "execution_count": 260,
      "outputs": [
        {
          "output_type": "stream",
          "text": "2019-05-15\n",
          "name": "stdout"
        }
      ]
    },
    {
      "metadata": {
        "trusted": true
      },
      "cell_type": "code",
      "source": "# Friday\ninput_date = '2019-05-10'\nprint(next_date(input_date))",
      "execution_count": 245,
      "outputs": [
        {
          "output_type": "stream",
          "text": "2019-05-15\n",
          "name": "stdout"
        }
      ]
    },
    {
      "metadata": {
        "trusted": true
      },
      "cell_type": "code",
      "source": "# Saturday\ninput_date = '2019-05-11'\nprint(next_date(input_date))",
      "execution_count": 246,
      "outputs": [
        {
          "output_type": "stream",
          "text": "2019-05-15\n",
          "name": "stdout"
        }
      ]
    },
    {
      "metadata": {
        "trusted": true
      },
      "cell_type": "code",
      "source": "# Sunday\ninput_date = '2019-05-12'\nprint(next_date(input_date))",
      "execution_count": 247,
      "outputs": [
        {
          "output_type": "stream",
          "text": "2019-05-15\n",
          "name": "stdout"
        }
      ]
    },
    {
      "metadata": {
        "trusted": true
      },
      "cell_type": "code",
      "source": "input_date = '2019-05-15'\nprint(next_date(input_date))",
      "execution_count": 261,
      "outputs": [
        {
          "output_type": "stream",
          "text": "2019-05-16\n",
          "name": "stdout"
        }
      ]
    }
  ],
  "metadata": {
    "kernelspec": {
      "name": "python36",
      "display_name": "Python 3.6",
      "language": "python"
    },
    "language_info": {
      "mimetype": "text/x-python",
      "nbconvert_exporter": "python",
      "name": "python",
      "pygments_lexer": "ipython3",
      "version": "3.6.6",
      "file_extension": ".py",
      "codemirror_mode": {
        "version": 3,
        "name": "ipython"
      }
    }
  },
  "nbformat": 4,
  "nbformat_minor": 2
}